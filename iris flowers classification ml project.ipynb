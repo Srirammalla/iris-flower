{
 "cells": [
  {
   "cell_type": "markdown",
   "id": "c062f94a",
   "metadata": {},
   "source": [
    "# Problem Statement:"
   ]
  },
  {
   "cell_type": "markdown",
   "id": "572c5bf9",
   "metadata": {},
   "source": [
    "1.Classifying Iris flowers based on their attributes is a common machine learning problem.\n",
    "\n",
    "The goal is to accurately predict the species of an Iris flower based on its sepal length, sepal width, petal length, and petal width.\n",
    "\n",
    "This problem has applications in botanical research, species identification, and plant classification."
   ]
  },
  {
   "cell_type": "markdown",
   "id": "7982d8a8",
   "metadata": {},
   "source": [
    "# Dataset Overview:"
   ]
  },
  {
   "cell_type": "markdown",
   "id": "66ae315a",
   "metadata": {},
   "source": [
    "1.The Iris flower dataset consists of 150 samples, with each sample having measurements of sepal length, sepal width, petal length, and petal width.\n",
    "\n",
    "The dataset is labeled with three species of Iris flowers: setosa, versicolor, and virginica.\n",
    "\n",
    "We will use this dataset to train and evaluate our machine learning model."
   ]
  },
  {
   "cell_type": "markdown",
   "id": "4b9a2ebd",
   "metadata": {},
   "source": [
    "# Data Preprocessing:"
   ]
  },
  {
   "cell_type": "markdown",
   "id": "1e65bf8c",
   "metadata": {},
   "source": [
    "1.Load the dataset using the pandas library.\n",
    "\n",
    "Separate the features (sepal length, sepal width, petal length, petal width) into X and the target variable (species) into y.\n",
    "\n",
    "Split the data into training and testing sets using the train_test_split() function from scikit-learn."
   ]
  },
  {
   "cell_type": "code",
   "execution_count": 11,
   "id": "dd28b9d7",
   "metadata": {},
   "outputs": [],
   "source": [
    "import pandas as pd\n",
    "from sklearn.model_selection import train_test_split\n",
    "\n",
    "# Load the Iris dataset\n",
    "iris_data = pd.read_csv('iris_dataset.csv')\n",
    "\n",
    "# Separate features and target variable\n",
    "X = iris_data.drop('species', axis=1)\n",
    "y = iris_data['species']\n",
    "\n",
    "# Split the data into training and testing sets\n",
    "X_train, X_test, y_train, y_test = train_test_split(X, y, test_size=0.2, random_state=42)"
   ]
  },
  {
   "cell_type": "markdown",
   "id": "0a7697a5",
   "metadata": {},
   "source": [
    "\n",
    "# species"
   ]
  },
  {
   "cell_type": "markdown",
   "id": "87c8c804",
   "metadata": {},
   "source": [
    "Select a suitable classification algorithm for the Iris flower classification task. We will use the Support Vector Machine (SVM) algorithm as an example.\n",
    "\n",
    "Train the model using the training dataset.\n",
    "\n",
    "Predict the species of Iris flowers in the testing dataset."
   ]
  },
  {
   "cell_type": "code",
   "execution_count": 12,
   "id": "5830c27e",
   "metadata": {},
   "outputs": [],
   "source": [
    "from sklearn.svm import SVC\n",
    "\n",
    "# Create an SVM classifier\n",
    "model = SVC()\n",
    "\n",
    "# Train the model on the training data\n",
    "model.fit(X_train, y_train)\n",
    "\n",
    "# Predict the species of Iris flowers in the testing data\n",
    "y_pred = model.predict(X_test)"
   ]
  },
  {
   "cell_type": "markdown",
   "id": "1a063364",
   "metadata": {},
   "source": [
    "# Model Evaluation:"
   ]
  },
  {
   "cell_type": "markdown",
   "id": "413c145e",
   "metadata": {},
   "source": [
    "Assess the performance of the model using evaluation metrics such as accuracy, precision, recall, and F1-score.\n",
    "\n",
    "Visualize the performance using a confusion matrix and classification report."
   ]
  },
  {
   "cell_type": "code",
   "execution_count": 13,
   "id": "a1d08a1b",
   "metadata": {},
   "outputs": [
    {
     "name": "stdout",
     "output_type": "stream",
     "text": [
      "Confusion Matrix:\n",
      "[[10  0  0]\n",
      " [ 0  9  0]\n",
      " [ 0  0 11]]\n",
      "\n",
      "Classification Report:\n",
      "                 precision    recall  f1-score   support\n",
      "\n",
      "    Iris-setosa       1.00      1.00      1.00        10\n",
      "Iris-versicolor       1.00      1.00      1.00         9\n",
      " Iris-virginica       1.00      1.00      1.00        11\n",
      "\n",
      "       accuracy                           1.00        30\n",
      "      macro avg       1.00      1.00      1.00        30\n",
      "   weighted avg       1.00      1.00      1.00        30\n",
      "\n"
     ]
    }
   ],
   "source": [
    "from sklearn.metrics import classification_report, confusion_matrix\n",
    "\n",
    "# Evaluate the model's performance\n",
    "print(\"Confusion Matrix:\")\n",
    "print(confusion_matrix(y_test, y_pred))\n",
    "\n",
    "print(\"\\nClassification Report:\")\n",
    "print(classification_report(y_test, y_pred))"
   ]
  },
  {
   "cell_type": "markdown",
   "id": "81ece73f",
   "metadata": {},
   "source": [
    "# Conclusion:"
   ]
  },
  {
   "cell_type": "markdown",
   "id": "d28ad6e4",
   "metadata": {},
   "source": [
    "In this project, we developed a machine learning model to classify Iris flowers based on their attributes. We preprocessed the data, trained an SVM classifier, and evaluated its performance. By understanding and implementing this project, you gained insights into data preprocessing, model development, and evaluation in a classification problem. Further improvements can be made by trying different algorithms or performing hyperparameter tuning. This project serves as a foundation for more complex machine learning tasks and provides practical experience in applying classification techniques to real-world datasets."
   ]
  }
 ],
 "metadata": {
  "kernelspec": {
   "display_name": "Python 3 (ipykernel)",
   "language": "python",
   "name": "python3"
  },
  "language_info": {
   "codemirror_mode": {
    "name": "ipython",
    "version": 3
   },
   "file_extension": ".py",
   "mimetype": "text/x-python",
   "name": "python",
   "nbconvert_exporter": "python",
   "pygments_lexer": "ipython3",
   "version": "3.9.12"
  }
 },
 "nbformat": 4,
 "nbformat_minor": 5
}
